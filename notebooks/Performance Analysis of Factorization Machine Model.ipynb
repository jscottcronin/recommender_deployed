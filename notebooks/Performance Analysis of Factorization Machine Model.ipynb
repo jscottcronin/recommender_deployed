{
 "cells": [
  {
   "cell_type": "markdown",
   "metadata": {},
   "source": [
    "# Purpose\n",
    "\n",
    "The purpose of this notebook is to build a factorization machine model using the movielens dataset. This consists of the following steps:\n",
    "1. Load in movielens data\n",
    "2. preprocess the data, and format into sparse matrix\n",
    "3. train test split the sparse data\n",
    "4. Calculate baseline scores for popularity vs factorization machine model\n",
    "5. model tuning"
   ]
  },
  {
   "cell_type": "code",
   "execution_count": 4,
   "metadata": {
    "ExecuteTime": {
     "end_time": "2018-04-03T01:40:30.404782Z",
     "start_time": "2018-04-03T01:40:30.377177Z"
    }
   },
   "outputs": [
    {
     "name": "stdout",
     "output_type": "stream",
     "text": [
      "/Users/scottcronin/gh/recommender_deployed\n"
     ]
    }
   ],
   "source": [
    "cd ../"
   ]
  },
  {
   "cell_type": "code",
   "execution_count": 5,
   "metadata": {
    "ExecuteTime": {
     "end_time": "2018-04-03T01:40:36.390192Z",
     "start_time": "2018-04-03T01:40:36.346447Z"
    }
   },
   "outputs": [],
   "source": [
    "%matplotlib inline\n",
    "%config InlineBackend.figure_format = 'retina'\n",
    "\n",
    "import copy\n",
    "import pandas as pd\n",
    "import pickle\n",
    "import numpy as np\n",
    "import os\n",
    "import matplotlib.pyplot as plt\n",
    "from matplotlib import cm\n",
    "import seaborn as sns\n",
    "import scipy.sparse as scs\n",
    "from sklearn.base import TransformerMixin\n",
    "from sklearn.externals import joblib\n",
    "from lightfm import LightFM, cross_validation, evaluation\n",
    "\n",
    "sns.set_context('notebook', font_scale=1.4)"
   ]
  },
  {
   "cell_type": "markdown",
   "metadata": {},
   "source": [
    "# Load in the data"
   ]
  },
  {
   "cell_type": "code",
   "execution_count": 6,
   "metadata": {
    "ExecuteTime": {
     "end_time": "2018-04-03T01:41:34.129923Z",
     "start_time": "2018-04-03T01:40:44.769654Z"
    }
   },
   "outputs": [
    {
     "data": {
      "text/html": [
       "<div>\n",
       "<style scoped>\n",
       "    .dataframe tbody tr th:only-of-type {\n",
       "        vertical-align: middle;\n",
       "    }\n",
       "\n",
       "    .dataframe tbody tr th {\n",
       "        vertical-align: top;\n",
       "    }\n",
       "\n",
       "    .dataframe thead th {\n",
       "        text-align: right;\n",
       "    }\n",
       "</style>\n",
       "<table border=\"1\" class=\"dataframe\">\n",
       "  <thead>\n",
       "    <tr style=\"text-align: right;\">\n",
       "      <th></th>\n",
       "      <th>uid</th>\n",
       "      <th>iid</th>\n",
       "      <th>rating</th>\n",
       "    </tr>\n",
       "  </thead>\n",
       "  <tbody>\n",
       "    <tr>\n",
       "      <th>2187027</th>\n",
       "      <td>15969</td>\n",
       "      <td>246</td>\n",
       "      <td>4.0</td>\n",
       "    </tr>\n",
       "    <tr>\n",
       "      <th>4675054</th>\n",
       "      <td>33395</td>\n",
       "      <td>4478</td>\n",
       "      <td>4.0</td>\n",
       "    </tr>\n",
       "    <tr>\n",
       "      <th>5167350</th>\n",
       "      <td>36957</td>\n",
       "      <td>488</td>\n",
       "      <td>4.0</td>\n",
       "    </tr>\n",
       "    <tr>\n",
       "      <th>4087236</th>\n",
       "      <td>29268</td>\n",
       "      <td>3745</td>\n",
       "      <td>4.0</td>\n",
       "    </tr>\n",
       "    <tr>\n",
       "      <th>6446600</th>\n",
       "      <td>46071</td>\n",
       "      <td>3873</td>\n",
       "      <td>3.0</td>\n",
       "    </tr>\n",
       "  </tbody>\n",
       "</table>\n",
       "</div>"
      ],
      "text/plain": [
       "           uid   iid  rating\n",
       "2187027  15969   246     4.0\n",
       "4675054  33395  4478     4.0\n",
       "5167350  36957   488     4.0\n",
       "4087236  29268  3745     4.0\n",
       "6446600  46071  3873     3.0"
      ]
     },
     "metadata": {},
     "output_type": "display_data"
    },
    {
     "name": "stdout",
     "output_type": "stream",
     "text": [
      "Shape: 10,000,054 x 3\n"
     ]
    }
   ],
   "source": [
    "interactions = pd.read_csv('data/ratings.dat',\n",
    "                           sep='::', engine='python',\n",
    "                           header=None,\n",
    "                           names=['uid', 'iid', 'rating', 'timestamp'],\n",
    "                           usecols=['uid', 'iid', 'rating'],\n",
    "                          )\n",
    "display(interactions.sample(5))\n",
    "print('Shape: {:>9,} x {}'.format(*interactions.shape))"
   ]
  },
  {
   "cell_type": "markdown",
   "metadata": {},
   "source": [
    "# Preprocess data into a sparse matrix"
   ]
  },
  {
   "cell_type": "code",
   "execution_count": 5,
   "metadata": {
    "ExecuteTime": {
     "end_time": "2018-04-01T19:14:22.631147Z",
     "start_time": "2018-04-01T19:14:22.497253Z"
    },
    "code_folding": []
   },
   "outputs": [],
   "source": [
    "class Preprocessor(TransformerMixin):\n",
    "    def __init__(self, copy=True, min_rating=4.0):\n",
    "        self.copy = copy\n",
    "        self.min_rating = min_rating\n",
    "        self.uid_to_idx = None\n",
    "        self.iid_to_idx = None\n",
    "    \n",
    "    def fit(self, df, y=None, **kwargs):\n",
    "        self._validate_df(df)\n",
    "        if self.copy:\n",
    "            df = df.copy()\n",
    "        df = self._filter_interactions_to_min_rating(df)\n",
    "        df = self._drop_duplicate_user_item_interactions(df)\n",
    "\n",
    "        # create uid to indx mapping\n",
    "        uniq_uids = df['uid'].unique()\n",
    "        self.uid_to_idx = dict(zip(uniq_uids, np.arange(len(uniq_uids))))\n",
    "\n",
    "        # create iid to indx mapping\n",
    "        uniq_iids = df['iid'].unique()\n",
    "        self.iid_to_idx = dict(zip(uniq_iids, np.arange(len(uniq_iids))))        \n",
    "        return self\n",
    "    \n",
    "    def transform(self, df, **kwargs):\n",
    "        self._validate_df(df)\n",
    "        if self.copy:\n",
    "            df = df.copy()\n",
    "\n",
    "        df = self._filter_interactions_to_min_rating(df)\n",
    "        df = self._drop_duplicate_user_item_interactions(df)\n",
    "        \n",
    "        # generate sparse matrix\n",
    "        row = df['uid'].map(self.uid_to_idx)\n",
    "        col = df['iid'].map(self.iid_to_idx)\n",
    "        assert len(row) == len(col)\n",
    "        data = np.ones(len(row))\n",
    "        shape = (len(self.uid_to_idx), len(self.iid_to_idx))\n",
    "        csr = scs.coo_matrix((data, (row, col)), shape=shape).tocsr()\n",
    "        return csr\n",
    "\n",
    "    def _drop_duplicate_user_item_interactions(self, df):\n",
    "        if df.duplicated().sum() != 0:\n",
    "            df = df.drop_duplicated()\n",
    "        return df\n",
    "    \n",
    "    def _filter_interactions_to_min_rating(self, df):\n",
    "        df = df.loc[df['rating'] >= self.min_rating, ['uid', 'iid']]\n",
    "        return df\n",
    "    \n",
    "    def _validate_df(self, df):\n",
    "        assert 'uid' in df.columns\n",
    "        assert 'iid' in df.columns\n",
    "        assert 'rating' in df.columns"
   ]
  },
  {
   "cell_type": "code",
   "execution_count": 13,
   "metadata": {
    "ExecuteTime": {
     "end_time": "2018-04-03T01:47:12.876701Z",
     "start_time": "2018-04-03T01:47:08.451751Z"
    }
   },
   "outputs": [],
   "source": [
    "pp = Preprocessor(min_rating=4.0)\n",
    "csr = pp.fit_transform(interactions)"
   ]
  },
  {
   "cell_type": "markdown",
   "metadata": {},
   "source": [
    "# Train Test Split for Evaluation"
   ]
  },
  {
   "cell_type": "markdown",
   "metadata": {},
   "source": [
    "Lets begin by creating a simple train test split"
   ]
  },
  {
   "cell_type": "code",
   "execution_count": 7,
   "metadata": {
    "ExecuteTime": {
     "end_time": "2018-04-01T19:14:27.201803Z",
     "start_time": "2018-04-01T19:14:26.776092Z"
    }
   },
   "outputs": [],
   "source": [
    "tr, te = cross_validation.random_train_test_split(csr)"
   ]
  },
  {
   "cell_type": "markdown",
   "metadata": {},
   "source": [
    "Let's build a model with train and evaluate it with test"
   ]
  },
  {
   "cell_type": "code",
   "execution_count": 6,
   "metadata": {
    "ExecuteTime": {
     "end_time": "2018-03-31T21:36:10.914829Z",
     "start_time": "2018-03-31T21:35:43.603184Z"
    }
   },
   "outputs": [
    {
     "name": "stdout",
     "output_type": "stream",
     "text": [
      "CPU times: user 26.9 s, sys: 237 ms, total: 27.2 s\n",
      "Wall time: 27.3 s\n"
     ]
    }
   ],
   "source": [
    "%%time\n",
    "lfm = LightFM(no_components=30, loss='warp', learning_rate=0.05)\n",
    "lfm.fit(tr, epochs=3)"
   ]
  },
  {
   "cell_type": "markdown",
   "metadata": {},
   "source": [
    "Let's build a popularity model simply by deleting user and item embedding vectors"
   ]
  },
  {
   "cell_type": "code",
   "execution_count": 7,
   "metadata": {
    "ExecuteTime": {
     "end_time": "2018-03-31T21:36:10.949267Z",
     "start_time": "2018-03-31T21:36:10.916887Z"
    }
   },
   "outputs": [],
   "source": [
    "pop = copy.deepcopy(lfm)\n",
    "pop.user_embeddings[:, :] = 0.0\n",
    "pop.item_embeddings[:, :] = 0.0"
   ]
  },
  {
   "cell_type": "markdown",
   "metadata": {},
   "source": [
    "# Evaluate model performance"
   ]
  },
  {
   "cell_type": "code",
   "execution_count": 8,
   "metadata": {
    "ExecuteTime": {
     "end_time": "2018-03-31T21:37:10.925652Z",
     "start_time": "2018-03-31T21:37:10.896630Z"
    }
   },
   "outputs": [],
   "source": [
    "def evaluate_model(model, train, test):\n",
    "    model_rr = evaluation.reciprocal_rank(\n",
    "        model=model,\n",
    "        test_interactions=test,\n",
    "        train_interactions=train,\n",
    "        num_threads=2\n",
    "    )\n",
    "    model_auc = evaluation.auc_score(\n",
    "        model=model,\n",
    "        test_interactions=test,\n",
    "        train_interactions=train,\n",
    "        num_threads=2\n",
    "    )\n",
    "    return model_rr, model_auc"
   ]
  },
  {
   "cell_type": "code",
   "execution_count": 9,
   "metadata": {
    "ExecuteTime": {
     "end_time": "2018-03-31T21:42:20.243782Z",
     "start_time": "2018-03-31T21:37:23.616006Z"
    }
   },
   "outputs": [
    {
     "name": "stdout",
     "output_type": "stream",
     "text": [
      "CPU times: user 4min 53s, sys: 1.82 s, total: 4min 55s\n",
      "Wall time: 4min 56s\n"
     ]
    }
   ],
   "source": [
    "%%time\n",
    "fm_rr, fm_auc = evaluate_model(lfm, tr, te)\n",
    "pop_rr, pop_auc = evaluate_model(pop, tr, te)"
   ]
  },
  {
   "cell_type": "code",
   "execution_count": 24,
   "metadata": {
    "ExecuteTime": {
     "end_time": "2018-03-31T21:50:50.357158Z",
     "start_time": "2018-03-31T21:50:50.333958Z"
    }
   },
   "outputs": [
    {
     "name": "stdout",
     "output_type": "stream",
     "text": [
      "Factorization Machine:\n",
      "\tMean Reciprocal Rank: 0.41\n",
      "\t        Mean ROC-AUC: 0.972\n",
      "Popularity Model:\n",
      "\tMean Reciprocal Rank: 0.281\n",
      "\t        Mean ROC-AUC: 0.944\n"
     ]
    }
   ],
   "source": [
    "print('{:>10}:\\n\\t{:>20}: {:0.3}\\n\\t{:>20}: {:0.3}'.format(\n",
    "    'Factorization Machine',\n",
    "        'Mean Reciprocal Rank', fm_rr.mean(),\n",
    "        'Mean ROC-AUC', fm_auc.mean()\n",
    "))\n",
    "print('{:>10}:\\n\\t{:>20}: {:0.3}\\n\\t{:>20}: {:0.3}'.format(\n",
    "    'Popularity Model',\n",
    "        'Mean Reciprocal Rank', pop_rr.mean(),\n",
    "        'Mean ROC-AUC', pop_auc.mean()\n",
    "))"
   ]
  },
  {
   "cell_type": "markdown",
   "metadata": {},
   "source": [
    "As you can see, a factorization machine model outperforms a popularity model by ~50% in mean reciprocal rank. Mean reciprocal rank tends to be the best metric for this type of model as it is heavily weighted on getting the first few recommendations correct."
   ]
  }
 ],
 "metadata": {
  "kernelspec": {
   "display_name": "recommender_deployed",
   "language": "python",
   "name": "recommender_deployed"
  },
  "language_info": {
   "codemirror_mode": {
    "name": "ipython",
    "version": 3
   },
   "file_extension": ".py",
   "mimetype": "text/x-python",
   "name": "python",
   "nbconvert_exporter": "python",
   "pygments_lexer": "ipython3",
   "version": "3.6.2"
  },
  "toc": {
   "colors": {
    "hover_highlight": "#DAA520",
    "navigate_num": "#feffff",
    "navigate_text": "#333333",
    "running_highlight": "#FF0000",
    "selected_highlight": "#FFD700",
    "sidebar_border": "#EEEEEE",
    "wrapper_background": "#FFFFFF"
   },
   "moveMenuLeft": true,
   "nav_menu": {
    "height": "21px",
    "width": "254px"
   },
   "navigate_menu": true,
   "number_sections": false,
   "sideBar": true,
   "threshold": 4,
   "toc_cell": false,
   "toc_section_display": "block",
   "toc_window_display": false,
   "widenNotebook": false
  }
 },
 "nbformat": 4,
 "nbformat_minor": 2
}
