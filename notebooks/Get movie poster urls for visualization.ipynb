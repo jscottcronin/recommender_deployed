{
 "cells": [
  {
   "cell_type": "code",
   "execution_count": 1,
   "metadata": {
    "ExecuteTime": {
     "end_time": "2018-04-03T03:17:37.043055Z",
     "start_time": "2018-04-03T03:17:37.029687Z"
    }
   },
   "outputs": [
    {
     "name": "stdout",
     "output_type": "stream",
     "text": [
      "/Users/scottcronin/gh/recommender_deployed\n"
     ]
    }
   ],
   "source": [
    "cd ../"
   ]
  },
  {
   "cell_type": "code",
   "execution_count": 41,
   "metadata": {
    "ExecuteTime": {
     "end_time": "2018-04-03T03:36:52.254928Z",
     "start_time": "2018-04-03T03:36:52.213009Z"
    }
   },
   "outputs": [],
   "source": [
    "%matplotlib inline\n",
    "%config InlineBackend.figure_format = 'retina'\n",
    "\n",
    "from dotenv import find_dotenv, load_dotenv\n",
    "load_dotenv(find_dotenv())\n",
    "import pandas as pd\n",
    "import numpy as np\n",
    "import scipy.sparse as scs\n",
    "from lightfm import LightFM\n",
    "from tqdm import tqdm, tqdm_notebook\n",
    "import time\n",
    "from app.preprocess import Preprocessor\n",
    "from app.models import FM\n",
    "\n",
    "\n",
    "\n",
    "import os\n",
    "import tmdbsimple as tmdb\n",
    "tmdb.API_KEY = os.environ['TMDB_API_KEY']"
   ]
  },
  {
   "cell_type": "code",
   "execution_count": 3,
   "metadata": {
    "ExecuteTime": {
     "end_time": "2018-04-03T03:20:46.985850Z",
     "start_time": "2018-04-03T03:19:55.918746Z"
    }
   },
   "outputs": [
    {
     "data": {
      "text/html": [
       "<div>\n",
       "<style scoped>\n",
       "    .dataframe tbody tr th:only-of-type {\n",
       "        vertical-align: middle;\n",
       "    }\n",
       "\n",
       "    .dataframe tbody tr th {\n",
       "        vertical-align: top;\n",
       "    }\n",
       "\n",
       "    .dataframe thead th {\n",
       "        text-align: right;\n",
       "    }\n",
       "</style>\n",
       "<table border=\"1\" class=\"dataframe\">\n",
       "  <thead>\n",
       "    <tr style=\"text-align: right;\">\n",
       "      <th></th>\n",
       "      <th>uid</th>\n",
       "      <th>iid</th>\n",
       "      <th>rating</th>\n",
       "    </tr>\n",
       "  </thead>\n",
       "  <tbody>\n",
       "    <tr>\n",
       "      <th>6081280</th>\n",
       "      <td>43413</td>\n",
       "      <td>3033</td>\n",
       "      <td>3.0</td>\n",
       "    </tr>\n",
       "    <tr>\n",
       "      <th>8097261</th>\n",
       "      <td>58074</td>\n",
       "      <td>7162</td>\n",
       "      <td>4.0</td>\n",
       "    </tr>\n",
       "    <tr>\n",
       "      <th>3912973</th>\n",
       "      <td>28041</td>\n",
       "      <td>1275</td>\n",
       "      <td>5.0</td>\n",
       "    </tr>\n",
       "    <tr>\n",
       "      <th>8742337</th>\n",
       "      <td>62572</td>\n",
       "      <td>25</td>\n",
       "      <td>4.0</td>\n",
       "    </tr>\n",
       "    <tr>\n",
       "      <th>5738520</th>\n",
       "      <td>40992</td>\n",
       "      <td>1483</td>\n",
       "      <td>3.0</td>\n",
       "    </tr>\n",
       "  </tbody>\n",
       "</table>\n",
       "</div>"
      ],
      "text/plain": [
       "           uid   iid  rating\n",
       "6081280  43413  3033     3.0\n",
       "8097261  58074  7162     4.0\n",
       "3912973  28041  1275     5.0\n",
       "8742337  62572    25     4.0\n",
       "5738520  40992  1483     3.0"
      ]
     },
     "metadata": {},
     "output_type": "display_data"
    },
    {
     "name": "stdout",
     "output_type": "stream",
     "text": [
      "Shape: 10,000,054 x 3\n"
     ]
    }
   ],
   "source": [
    "interactions = pd.read_csv('data/ratings.dat',\n",
    "                           sep='::', engine='python',\n",
    "                           header=None,\n",
    "                           names=['uid', 'iid', 'rating', 'timestamp'],\n",
    "                           usecols=['uid', 'iid', 'rating'],\n",
    "                          )\n",
    "display(interactions.sample(5))\n",
    "print('Shape: {:>9,} x {}'.format(*interactions.shape))"
   ]
  },
  {
   "cell_type": "code",
   "execution_count": 7,
   "metadata": {
    "ExecuteTime": {
     "end_time": "2018-04-03T03:20:58.641092Z",
     "start_time": "2018-04-03T03:20:58.541971Z"
    }
   },
   "outputs": [
    {
     "data": {
      "text/html": [
       "<div>\n",
       "<style scoped>\n",
       "    .dataframe tbody tr th:only-of-type {\n",
       "        vertical-align: middle;\n",
       "    }\n",
       "\n",
       "    .dataframe tbody tr th {\n",
       "        vertical-align: top;\n",
       "    }\n",
       "\n",
       "    .dataframe thead th {\n",
       "        text-align: right;\n",
       "    }\n",
       "</style>\n",
       "<table border=\"1\" class=\"dataframe\">\n",
       "  <thead>\n",
       "    <tr style=\"text-align: right;\">\n",
       "      <th></th>\n",
       "      <th>movieId</th>\n",
       "      <th>imdbId</th>\n",
       "      <th>tmdbId</th>\n",
       "    </tr>\n",
       "  </thead>\n",
       "  <tbody>\n",
       "    <tr>\n",
       "      <th>41557</th>\n",
       "      <td>165727</td>\n",
       "      <td>3760966</td>\n",
       "      <td>333665.0</td>\n",
       "    </tr>\n",
       "    <tr>\n",
       "      <th>6890</th>\n",
       "      <td>7001</td>\n",
       "      <td>77745</td>\n",
       "      <td>11850.0</td>\n",
       "    </tr>\n",
       "    <tr>\n",
       "      <th>24273</th>\n",
       "      <td>113715</td>\n",
       "      <td>3605002</td>\n",
       "      <td>259761.0</td>\n",
       "    </tr>\n",
       "    <tr>\n",
       "      <th>7945</th>\n",
       "      <td>8628</td>\n",
       "      <td>114371</td>\n",
       "      <td>54022.0</td>\n",
       "    </tr>\n",
       "    <tr>\n",
       "      <th>32496</th>\n",
       "      <td>140269</td>\n",
       "      <td>338109</td>\n",
       "      <td>80219.0</td>\n",
       "    </tr>\n",
       "  </tbody>\n",
       "</table>\n",
       "</div>"
      ],
      "text/plain": [
       "       movieId   imdbId    tmdbId\n",
       "41557   165727  3760966  333665.0\n",
       "6890      7001    77745   11850.0\n",
       "24273   113715  3605002  259761.0\n",
       "7945      8628   114371   54022.0\n",
       "32496   140269   338109   80219.0"
      ]
     },
     "metadata": {},
     "output_type": "display_data"
    },
    {
     "name": "stdout",
     "output_type": "stream",
     "text": [
      "Shape:    45,843 x 3\n"
     ]
    }
   ],
   "source": [
    "links = pd.read_csv('data/links.csv')\n",
    "display(links.sample(5))\n",
    "print('Shape: {:>9,} x {}'.format(*links.shape))"
   ]
  },
  {
   "cell_type": "code",
   "execution_count": 8,
   "metadata": {
    "ExecuteTime": {
     "end_time": "2018-04-03T03:21:34.716802Z",
     "start_time": "2018-04-03T03:21:29.939691Z"
    }
   },
   "outputs": [],
   "source": [
    "pp = Preprocessor(min_rating=4.0)\n",
    "csr = pp.fit_transform(interactions)"
   ]
  },
  {
   "cell_type": "code",
   "execution_count": 10,
   "metadata": {
    "ExecuteTime": {
     "end_time": "2018-04-03T03:22:01.881777Z",
     "start_time": "2018-04-03T03:22:01.851557Z"
    }
   },
   "outputs": [],
   "source": [
    "lfm = LightFM(no_components=30, loss='warp', learning_rate=0.05)\n",
    "fm = FM(pp, lfm)"
   ]
  },
  {
   "cell_type": "markdown",
   "metadata": {},
   "source": [
    "# Generate posters for each movieId in dataset"
   ]
  },
  {
   "cell_type": "code",
   "execution_count": 38,
   "metadata": {
    "ExecuteTime": {
     "end_time": "2018-04-03T03:35:31.303135Z",
     "start_time": "2018-04-03T03:35:31.128676Z"
    }
   },
   "outputs": [
    {
     "data": {
      "text/html": [
       "<div>\n",
       "<style scoped>\n",
       "    .dataframe tbody tr th:only-of-type {\n",
       "        vertical-align: middle;\n",
       "    }\n",
       "\n",
       "    .dataframe tbody tr th {\n",
       "        vertical-align: top;\n",
       "    }\n",
       "\n",
       "    .dataframe thead th {\n",
       "        text-align: right;\n",
       "    }\n",
       "</style>\n",
       "<table border=\"1\" class=\"dataframe\">\n",
       "  <thead>\n",
       "    <tr style=\"text-align: right;\">\n",
       "      <th></th>\n",
       "      <th>movieId</th>\n",
       "      <th>tmdbId</th>\n",
       "    </tr>\n",
       "  </thead>\n",
       "  <tbody>\n",
       "    <tr>\n",
       "      <th>0</th>\n",
       "      <td>122</td>\n",
       "      <td>11066</td>\n",
       "    </tr>\n",
       "    <tr>\n",
       "      <th>1</th>\n",
       "      <td>185</td>\n",
       "      <td>1642</td>\n",
       "    </tr>\n",
       "    <tr>\n",
       "      <th>2</th>\n",
       "      <td>231</td>\n",
       "      <td>8467</td>\n",
       "    </tr>\n",
       "    <tr>\n",
       "      <th>3</th>\n",
       "      <td>292</td>\n",
       "      <td>6950</td>\n",
       "    </tr>\n",
       "  </tbody>\n",
       "</table>\n",
       "</div>"
      ],
      "text/plain": [
       "   movieId  tmdbId\n",
       "0      122   11066\n",
       "1      185    1642\n",
       "2      231    8467\n",
       "3      292    6950"
      ]
     },
     "execution_count": 38,
     "metadata": {},
     "output_type": "execute_result"
    }
   ],
   "source": [
    "movieIds = pd.DataFrame(interactions.iid.unique(), columns=['movieId'])\n",
    "m = movieIds.merge(links[['movieId', 'tmdbId']], how='left').dropna().astype('int64')\n",
    "m.head(4)"
   ]
  },
  {
   "cell_type": "code",
   "execution_count": 45,
   "metadata": {
    "ExecuteTime": {
     "end_time": "2018-04-03T05:47:40.319677Z",
     "start_time": "2018-04-03T03:39:08.510773Z"
    }
   },
   "outputs": [
    {
     "data": {
      "application/vnd.jupyter.widget-view+json": {
       "model_id": "22657597e381434d88b57a198213f3fa",
       "version_major": 2,
       "version_minor": 0
      },
      "text/html": [
       "<p>Failed to display Jupyter Widget of type <code>HBox</code>.</p>\n",
       "<p>\n",
       "  If you're reading this message in the Jupyter Notebook or JupyterLab Notebook, it may mean\n",
       "  that the widgets JavaScript is still loading. If this message persists, it\n",
       "  likely means that the widgets JavaScript library is either not installed or\n",
       "  not enabled. See the <a href=\"https://ipywidgets.readthedocs.io/en/stable/user_install.html\">Jupyter\n",
       "  Widgets Documentation</a> for setup instructions.\n",
       "</p>\n",
       "<p>\n",
       "  If you're reading this message in another frontend (for example, a static\n",
       "  rendering on GitHub or <a href=\"https://nbviewer.jupyter.org/\">NBViewer</a>),\n",
       "  it may mean that your frontend doesn't currently support widgets.\n",
       "</p>\n"
      ],
      "text/plain": [
       "HBox(children=(IntProgress(value=0, max=10634), HTML(value='')))"
      ]
     },
     "metadata": {},
     "output_type": "display_data"
    },
    {
     "name": "stdout",
     "output_type": "stream",
     "text": [
      "\n"
     ]
    }
   ],
   "source": [
    "posters = []\n",
    "\n",
    "for i, movie in tqdm_notebook(m.iterrows(), total=10634):\n",
    "    time.sleep(0.5)\n",
    "    try:\n",
    "        _id = movie['tmdbId']\n",
    "        poster_path = tmdb.Movies(_id).info()['poster_path']\n",
    "    except:\n",
    "        poster_path = 'error'    \n",
    "    posters.append(poster_path)"
   ]
  },
  {
   "cell_type": "code",
   "execution_count": 46,
   "metadata": {
    "ExecuteTime": {
     "end_time": "2018-04-03T08:00:51.706996Z",
     "start_time": "2018-04-03T08:00:51.626390Z"
    }
   },
   "outputs": [
    {
     "data": {
      "text/plain": [
       "['/fJKn2IEgvtOU7LwO7zNHkLDzc3m.jpg',\n",
       " '/23UKOJp4gKPuJR3vjp3ueRUJJYr.jpg',\n",
       " '/mEKMsQgaDHjB0XAwL4odTJChJfe.jpg',\n",
       " None,\n",
       " '/vgV4BPVeMLCa4sEvmT7PTt7fx4N.jpg']"
      ]
     },
     "execution_count": 46,
     "metadata": {},
     "output_type": "execute_result"
    }
   ],
   "source": [
    "posters[-5:]"
   ]
  },
  {
   "cell_type": "code",
   "execution_count": 49,
   "metadata": {
    "ExecuteTime": {
     "end_time": "2018-04-03T08:01:42.703517Z",
     "start_time": "2018-04-03T08:01:42.681400Z"
    }
   },
   "outputs": [],
   "source": [
    "m['poster_path'] = posters"
   ]
  },
  {
   "cell_type": "code",
   "execution_count": 50,
   "metadata": {
    "ExecuteTime": {
     "end_time": "2018-04-03T08:03:04.256099Z",
     "start_time": "2018-04-03T08:03:04.191390Z"
    }
   },
   "outputs": [],
   "source": [
    "m.to_csv('data/movie_poster_urls.csv', index=False)"
   ]
  },
  {
   "cell_type": "code",
   "execution_count": 54,
   "metadata": {
    "ExecuteTime": {
     "end_time": "2018-04-03T08:06:27.718259Z",
     "start_time": "2018-04-03T08:06:27.696543Z"
    }
   },
   "outputs": [],
   "source": [
    "m['url_base'] = 'https://image.tmdb.org/t/p/w600_and_h900_bestv2/'"
   ]
  },
  {
   "cell_type": "code",
   "execution_count": 55,
   "metadata": {
    "ExecuteTime": {
     "end_time": "2018-04-03T08:07:02.135403Z",
     "start_time": "2018-04-03T08:07:02.094044Z"
    }
   },
   "outputs": [],
   "source": [
    "m['poster_url'] = m['url_base'] + m['poster_path']"
   ]
  },
  {
   "cell_type": "code",
   "execution_count": 59,
   "metadata": {
    "ExecuteTime": {
     "end_time": "2018-04-03T08:07:51.427789Z",
     "start_time": "2018-04-03T08:07:51.404721Z"
    }
   },
   "outputs": [
    {
     "name": "stdout",
     "output_type": "stream",
     "text": [
      "https://image.tmdb.org/t/p/w600_and_h900_bestv2//4viJcRFgF4cCPnJWgpvb3CRd2pK.jpg\n",
      "https://image.tmdb.org/t/p/w600_and_h900_bestv2//hXa5ArW1Llu4SOqPWRQ7dzCDyOH.jpg\n",
      "https://image.tmdb.org/t/p/w600_and_h900_bestv2//nacr1Xj8tJroyVJKzPtdtgApphj.jpg\n",
      "https://image.tmdb.org/t/p/w600_and_h900_bestv2//yyCXkzmi8jChDD6qSmhD2QVs1E.jpg\n",
      "https://image.tmdb.org/t/p/w600_and_h900_bestv2//mB0KF5T2s6raTjiV676Umd8ciE0.jpg\n"
     ]
    }
   ],
   "source": [
    "for url in m.sample(5).poster_url.tolist():\n",
    "    print(url)"
   ]
  },
  {
   "cell_type": "code",
   "execution_count": null,
   "metadata": {},
   "outputs": [],
   "source": []
  }
 ],
 "metadata": {
  "kernelspec": {
   "display_name": "recommender_deployed",
   "language": "python",
   "name": "recommender_deployed"
  },
  "language_info": {
   "codemirror_mode": {
    "name": "ipython",
    "version": 3
   },
   "file_extension": ".py",
   "mimetype": "text/x-python",
   "name": "python",
   "nbconvert_exporter": "python",
   "pygments_lexer": "ipython3",
   "version": "3.6.2"
  },
  "toc": {
   "colors": {
    "hover_highlight": "#DAA520",
    "navigate_num": "#feffff",
    "navigate_text": "#333333",
    "running_highlight": "#FF0000",
    "selected_highlight": "#FFD700",
    "sidebar_border": "#EEEEEE",
    "wrapper_background": "#FFFFFF"
   },
   "moveMenuLeft": true,
   "nav_menu": {
    "height": "30px",
    "width": "254px"
   },
   "navigate_menu": true,
   "number_sections": false,
   "sideBar": true,
   "threshold": 4,
   "toc_cell": false,
   "toc_section_display": "block",
   "toc_window_display": true,
   "widenNotebook": false
  }
 },
 "nbformat": 4,
 "nbformat_minor": 2
}
