{
 "cells": [
  {
   "cell_type": "markdown",
   "metadata": {},
   "source": [
    "# Purpose\n",
    "\n",
    "The purpose of this notebook is to build a factorization machine model using the movielens dataset. This consists of the following steps:\n",
    "1. Load in movielens data\n",
    "2. preprocess the data, and format into sparse matrix\n",
    "3. train test split the sparse data\n",
    "4. Calculate baseline scores for popularity vs factorization machine model\n",
    "5. model tuning"
   ]
  },
  {
   "cell_type": "code",
   "execution_count": 4,
   "metadata": {
    "ExecuteTime": {
     "end_time": "2018-04-03T01:40:30.404782Z",
     "start_time": "2018-04-03T01:40:30.377177Z"
    }
   },
   "outputs": [
    {
     "name": "stdout",
     "output_type": "stream",
     "text": [
      "/Users/scottcronin/gh/recommender_deployed\n"
     ]
    }
   ],
   "source": [
    "cd ../"
   ]
  },
  {
   "cell_type": "code",
   "execution_count": 5,
   "metadata": {
    "ExecuteTime": {
     "end_time": "2018-04-03T01:40:36.390192Z",
     "start_time": "2018-04-03T01:40:36.346447Z"
    }
   },
   "outputs": [],
   "source": [
    "%matplotlib inline\n",
    "%config InlineBackend.figure_format = 'retina'\n",
    "\n",
    "import copy\n",
    "import pandas as pd\n",
    "import pickle\n",
    "import numpy as np\n",
    "import os\n",
    "import matplotlib.pyplot as plt\n",
    "from matplotlib import cm\n",
    "import seaborn as sns\n",
    "import scipy.sparse as scs\n",
    "from sklearn.base import TransformerMixin\n",
    "from sklearn.externals import joblib\n",
    "from lightfm import LightFM, cross_validation, evaluation\n",
    "\n",
    "sns.set_context('notebook', font_scale=1.4)"
   ]
  },
  {
   "cell_type": "code",
   "execution_count": 6,
   "metadata": {
    "ExecuteTime": {
     "end_time": "2018-04-03T01:41:34.129923Z",
     "start_time": "2018-04-03T01:40:44.769654Z"
    }
   },
   "outputs": [
    {
     "data": {
      "text/html": [
       "<div>\n",
       "<style scoped>\n",
       "    .dataframe tbody tr th:only-of-type {\n",
       "        vertical-align: middle;\n",
       "    }\n",
       "\n",
       "    .dataframe tbody tr th {\n",
       "        vertical-align: top;\n",
       "    }\n",
       "\n",
       "    .dataframe thead th {\n",
       "        text-align: right;\n",
       "    }\n",
       "</style>\n",
       "<table border=\"1\" class=\"dataframe\">\n",
       "  <thead>\n",
       "    <tr style=\"text-align: right;\">\n",
       "      <th></th>\n",
       "      <th>uid</th>\n",
       "      <th>iid</th>\n",
       "      <th>rating</th>\n",
       "    </tr>\n",
       "  </thead>\n",
       "  <tbody>\n",
       "    <tr>\n",
       "      <th>2187027</th>\n",
       "      <td>15969</td>\n",
       "      <td>246</td>\n",
       "      <td>4.0</td>\n",
       "    </tr>\n",
       "    <tr>\n",
       "      <th>4675054</th>\n",
       "      <td>33395</td>\n",
       "      <td>4478</td>\n",
       "      <td>4.0</td>\n",
       "    </tr>\n",
       "    <tr>\n",
       "      <th>5167350</th>\n",
       "      <td>36957</td>\n",
       "      <td>488</td>\n",
       "      <td>4.0</td>\n",
       "    </tr>\n",
       "    <tr>\n",
       "      <th>4087236</th>\n",
       "      <td>29268</td>\n",
       "      <td>3745</td>\n",
       "      <td>4.0</td>\n",
       "    </tr>\n",
       "    <tr>\n",
       "      <th>6446600</th>\n",
       "      <td>46071</td>\n",
       "      <td>3873</td>\n",
       "      <td>3.0</td>\n",
       "    </tr>\n",
       "  </tbody>\n",
       "</table>\n",
       "</div>"
      ],
      "text/plain": [
       "           uid   iid  rating\n",
       "2187027  15969   246     4.0\n",
       "4675054  33395  4478     4.0\n",
       "5167350  36957   488     4.0\n",
       "4087236  29268  3745     4.0\n",
       "6446600  46071  3873     3.0"
      ]
     },
     "metadata": {},
     "output_type": "display_data"
    },
    {
     "name": "stdout",
     "output_type": "stream",
     "text": [
      "Shape: 10,000,054 x 3\n"
     ]
    }
   ],
   "source": [
    "interactions = pd.read_csv('data/ratings.dat',\n",
    "                           sep='::', engine='python',\n",
    "                           header=None,\n",
    "                           names=['uid', 'iid', 'rating', 'timestamp'],\n",
    "                           usecols=['uid', 'iid', 'rating'],\n",
    "                          )\n",
    "display(interactions.sample(5))\n",
    "print('Shape: {:>9,} x {}'.format(*interactions.shape))"
   ]
  },
  {
   "cell_type": "code",
   "execution_count": 18,
   "metadata": {
    "ExecuteTime": {
     "end_time": "2018-04-03T02:21:59.071611Z",
     "start_time": "2018-04-03T02:21:58.981682Z"
    }
   },
   "outputs": [
    {
     "name": "stdout",
     "output_type": "stream",
     "text": [
      "<class 'pandas.core.frame.DataFrame'>\n",
      "RangeIndex: 45466 entries, 0 to 45465\n",
      "Data columns (total 24 columns):\n",
      "adult                    45466 non-null object\n",
      "belongs_to_collection    4494 non-null object\n",
      "budget                   45466 non-null object\n",
      "genres                   45466 non-null object\n",
      "homepage                 7782 non-null object\n",
      "id                       45466 non-null object\n",
      "imdb_id                  45449 non-null object\n",
      "original_language        45455 non-null object\n",
      "original_title           45466 non-null object\n",
      "overview                 44512 non-null object\n",
      "popularity               45461 non-null object\n",
      "poster_path              45080 non-null object\n",
      "production_companies     45463 non-null object\n",
      "production_countries     45463 non-null object\n",
      "release_date             45379 non-null object\n",
      "revenue                  45460 non-null float64\n",
      "runtime                  45203 non-null float64\n",
      "spoken_languages         45460 non-null object\n",
      "status                   45379 non-null object\n",
      "tagline                  20412 non-null object\n",
      "title                    45460 non-null object\n",
      "video                    45460 non-null object\n",
      "vote_average             45460 non-null float64\n",
      "vote_count               45460 non-null float64\n",
      "dtypes: float64(4), object(20)\n",
      "memory usage: 8.3+ MB\n"
     ]
    }
   ],
   "source": [
    "meta.info()"
   ]
  },
  {
   "cell_type": "code",
   "execution_count": 63,
   "metadata": {
    "ExecuteTime": {
     "end_time": "2018-04-03T03:01:18.759575Z",
     "start_time": "2018-04-03T03:01:18.736276Z"
    }
   },
   "outputs": [
    {
     "data": {
      "text/plain": [
       "True"
      ]
     },
     "execution_count": 63,
     "metadata": {},
     "output_type": "execute_result"
    }
   ],
   "source": [
    "from dotenv import find_dotenv, load_dotenv\n",
    "load_dotenv(find_dotenv())"
   ]
  },
  {
   "cell_type": "code",
   "execution_count": 59,
   "metadata": {
    "ExecuteTime": {
     "end_time": "2018-04-03T02:56:44.511439Z",
     "start_time": "2018-04-03T02:56:44.467837Z"
    },
    "scrolled": true
   },
   "outputs": [
    {
     "data": {
      "text/html": [
       "<div>\n",
       "<style scoped>\n",
       "    .dataframe tbody tr th:only-of-type {\n",
       "        vertical-align: middle;\n",
       "    }\n",
       "\n",
       "    .dataframe tbody tr th {\n",
       "        vertical-align: top;\n",
       "    }\n",
       "\n",
       "    .dataframe thead th {\n",
       "        text-align: right;\n",
       "    }\n",
       "</style>\n",
       "<table border=\"1\" class=\"dataframe\">\n",
       "  <thead>\n",
       "    <tr style=\"text-align: right;\">\n",
       "      <th></th>\n",
       "      <th>tmdbId</th>\n",
       "    </tr>\n",
       "    <tr>\n",
       "      <th>0</th>\n",
       "      <th></th>\n",
       "    </tr>\n",
       "  </thead>\n",
       "  <tbody>\n",
       "    <tr>\n",
       "      <th>0</th>\n",
       "      <td>11066</td>\n",
       "    </tr>\n",
       "    <tr>\n",
       "      <th>1</th>\n",
       "      <td>1642</td>\n",
       "    </tr>\n",
       "    <tr>\n",
       "      <th>2</th>\n",
       "      <td>8467</td>\n",
       "    </tr>\n",
       "    <tr>\n",
       "      <th>3</th>\n",
       "      <td>6950</td>\n",
       "    </tr>\n",
       "    <tr>\n",
       "      <th>4</th>\n",
       "      <td>2164</td>\n",
       "    </tr>\n",
       "    <tr>\n",
       "      <th>5</th>\n",
       "      <td>193</td>\n",
       "    </tr>\n",
       "    <tr>\n",
       "      <th>6</th>\n",
       "      <td>888</td>\n",
       "    </tr>\n",
       "    <tr>\n",
       "      <th>7</th>\n",
       "      <td>13</td>\n",
       "    </tr>\n",
       "    <tr>\n",
       "      <th>8</th>\n",
       "      <td>10714</td>\n",
       "    </tr>\n",
       "    <tr>\n",
       "      <th>9</th>\n",
       "      <td>8587</td>\n",
       "    </tr>\n",
       "    <tr>\n",
       "      <th>10</th>\n",
       "      <td>36593</td>\n",
       "    </tr>\n",
       "    <tr>\n",
       "      <th>11</th>\n",
       "      <td>1637</td>\n",
       "    </tr>\n",
       "    <tr>\n",
       "      <th>12</th>\n",
       "      <td>306</td>\n",
       "    </tr>\n",
       "    <tr>\n",
       "      <th>13</th>\n",
       "      <td>9255</td>\n",
       "    </tr>\n",
       "    <tr>\n",
       "      <th>14</th>\n",
       "      <td>329</td>\n",
       "    </tr>\n",
       "    <tr>\n",
       "      <th>15</th>\n",
       "      <td>8005</td>\n",
       "    </tr>\n",
       "    <tr>\n",
       "      <th>16</th>\n",
       "      <td>858</td>\n",
       "    </tr>\n",
       "    <tr>\n",
       "      <th>17</th>\n",
       "      <td>771</td>\n",
       "    </tr>\n",
       "    <tr>\n",
       "      <th>18</th>\n",
       "      <td>812</td>\n",
       "    </tr>\n",
       "    <tr>\n",
       "      <th>19</th>\n",
       "      <td>280</td>\n",
       "    </tr>\n",
       "    <tr>\n",
       "      <th>20</th>\n",
       "      <td>408</td>\n",
       "    </tr>\n",
       "    <tr>\n",
       "      <th>21</th>\n",
       "      <td>10112</td>\n",
       "    </tr>\n",
       "    <tr>\n",
       "      <th>22</th>\n",
       "      <td>197</td>\n",
       "    </tr>\n",
       "    <tr>\n",
       "      <th>23</th>\n",
       "      <td>11</td>\n",
       "    </tr>\n",
       "    <tr>\n",
       "      <th>24</th>\n",
       "      <td>581</td>\n",
       "    </tr>\n",
       "    <tr>\n",
       "      <th>25</th>\n",
       "      <td>1892</td>\n",
       "    </tr>\n",
       "    <tr>\n",
       "      <th>26</th>\n",
       "      <td>11780</td>\n",
       "    </tr>\n",
       "    <tr>\n",
       "      <th>27</th>\n",
       "      <td>50797</td>\n",
       "    </tr>\n",
       "    <tr>\n",
       "      <th>28</th>\n",
       "      <td>531</td>\n",
       "    </tr>\n",
       "    <tr>\n",
       "      <th>29</th>\n",
       "      <td>207</td>\n",
       "    </tr>\n",
       "    <tr>\n",
       "      <th>...</th>\n",
       "      <td>...</td>\n",
       "    </tr>\n",
       "    <tr>\n",
       "      <th>10228</th>\n",
       "      <td>50285</td>\n",
       "    </tr>\n",
       "    <tr>\n",
       "      <th>10229</th>\n",
       "      <td>38558</td>\n",
       "    </tr>\n",
       "    <tr>\n",
       "      <th>10230</th>\n",
       "      <td>71402</td>\n",
       "    </tr>\n",
       "    <tr>\n",
       "      <th>10231</th>\n",
       "      <td>73621</td>\n",
       "    </tr>\n",
       "    <tr>\n",
       "      <th>10232</th>\n",
       "      <td>15581</td>\n",
       "    </tr>\n",
       "    <tr>\n",
       "      <th>10233</th>\n",
       "      <td>43596</td>\n",
       "    </tr>\n",
       "    <tr>\n",
       "      <th>10234</th>\n",
       "      <td>3426</td>\n",
       "    </tr>\n",
       "    <tr>\n",
       "      <th>10235</th>\n",
       "      <td>24034</td>\n",
       "    </tr>\n",
       "    <tr>\n",
       "      <th>10236</th>\n",
       "      <td>37658</td>\n",
       "    </tr>\n",
       "    <tr>\n",
       "      <th>10237</th>\n",
       "      <td>85783</td>\n",
       "    </tr>\n",
       "    <tr>\n",
       "      <th>10238</th>\n",
       "      <td>60230</td>\n",
       "    </tr>\n",
       "    <tr>\n",
       "      <th>10239</th>\n",
       "      <td>13726</td>\n",
       "    </tr>\n",
       "    <tr>\n",
       "      <th>10240</th>\n",
       "      <td>8892</td>\n",
       "    </tr>\n",
       "    <tr>\n",
       "      <th>10241</th>\n",
       "      <td>8276</td>\n",
       "    </tr>\n",
       "    <tr>\n",
       "      <th>10242</th>\n",
       "      <td>35189</td>\n",
       "    </tr>\n",
       "    <tr>\n",
       "      <th>10243</th>\n",
       "      <td>45096</td>\n",
       "    </tr>\n",
       "    <tr>\n",
       "      <th>10244</th>\n",
       "      <td>31336</td>\n",
       "    </tr>\n",
       "    <tr>\n",
       "      <th>10245</th>\n",
       "      <td>41938</td>\n",
       "    </tr>\n",
       "    <tr>\n",
       "      <th>10246</th>\n",
       "      <td>52796</td>\n",
       "    </tr>\n",
       "    <tr>\n",
       "      <th>10247</th>\n",
       "      <td>54910</td>\n",
       "    </tr>\n",
       "    <tr>\n",
       "      <th>10248</th>\n",
       "      <td>32644</td>\n",
       "    </tr>\n",
       "    <tr>\n",
       "      <th>10249</th>\n",
       "      <td>36073</td>\n",
       "    </tr>\n",
       "    <tr>\n",
       "      <th>10250</th>\n",
       "      <td>205481</td>\n",
       "    </tr>\n",
       "    <tr>\n",
       "      <th>10251</th>\n",
       "      <td>200311</td>\n",
       "    </tr>\n",
       "    <tr>\n",
       "      <th>10252</th>\n",
       "      <td>14232</td>\n",
       "    </tr>\n",
       "    <tr>\n",
       "      <th>10253</th>\n",
       "      <td>46466</td>\n",
       "    </tr>\n",
       "    <tr>\n",
       "      <th>10254</th>\n",
       "      <td>18035</td>\n",
       "    </tr>\n",
       "    <tr>\n",
       "      <th>10255</th>\n",
       "      <td>58570</td>\n",
       "    </tr>\n",
       "    <tr>\n",
       "      <th>10256</th>\n",
       "      <td>10630</td>\n",
       "    </tr>\n",
       "    <tr>\n",
       "      <th>10257</th>\n",
       "      <td>41780</td>\n",
       "    </tr>\n",
       "  </tbody>\n",
       "</table>\n",
       "<p>10221 rows × 1 columns</p>\n",
       "</div>"
      ],
      "text/plain": [
       "       tmdbId\n",
       "0            \n",
       "0       11066\n",
       "1        1642\n",
       "2        8467\n",
       "3        6950\n",
       "4        2164\n",
       "5         193\n",
       "6         888\n",
       "7          13\n",
       "8       10714\n",
       "9        8587\n",
       "10      36593\n",
       "11       1637\n",
       "12        306\n",
       "13       9255\n",
       "14        329\n",
       "15       8005\n",
       "16        858\n",
       "17        771\n",
       "18        812\n",
       "19        280\n",
       "20        408\n",
       "21      10112\n",
       "22        197\n",
       "23         11\n",
       "24        581\n",
       "25       1892\n",
       "26      11780\n",
       "27      50797\n",
       "28        531\n",
       "29        207\n",
       "...       ...\n",
       "10228   50285\n",
       "10229   38558\n",
       "10230   71402\n",
       "10231   73621\n",
       "10232   15581\n",
       "10233   43596\n",
       "10234    3426\n",
       "10235   24034\n",
       "10236   37658\n",
       "10237   85783\n",
       "10238   60230\n",
       "10239   13726\n",
       "10240    8892\n",
       "10241    8276\n",
       "10242   35189\n",
       "10243   45096\n",
       "10244   31336\n",
       "10245   41938\n",
       "10246   52796\n",
       "10247   54910\n",
       "10248   32644\n",
       "10249   36073\n",
       "10250  205481\n",
       "10251  200311\n",
       "10252   14232\n",
       "10253   46466\n",
       "10254   18035\n",
       "10255   58570\n",
       "10256   10630\n",
       "10257   41780\n",
       "\n",
       "[10221 rows x 1 columns]"
      ]
     },
     "execution_count": 59,
     "metadata": {},
     "output_type": "execute_result"
    }
   ],
   "source": [
    "left = pd.DataFrame.from_dict(pp.iid_to_idx, orient='index')\n",
    "right = links.set_index('movieId')[['tmdbId']]\n",
    "left.join(right).dropna().astype('int64').set_index(0).todict()"
   ]
  },
  {
   "cell_type": "code",
   "execution_count": 65,
   "metadata": {
    "ExecuteTime": {
     "end_time": "2018-04-03T03:02:33.100584Z",
     "start_time": "2018-04-03T03:02:32.492574Z"
    }
   },
   "outputs": [],
   "source": [
    "import tmdbsimple as tmdb\n",
    "tmdb.API_KEY = os.environ['TMDB_API_KEY']"
   ]
  },
  {
   "cell_type": "code",
   "execution_count": 80,
   "metadata": {
    "ExecuteTime": {
     "end_time": "2018-04-03T03:11:17.127243Z",
     "start_time": "2018-04-03T03:11:16.851975Z"
    }
   },
   "outputs": [],
   "source": [
    "poster = tmdb.Movies(603).info()['poster_path']"
   ]
  },
  {
   "cell_type": "code",
   "execution_count": 81,
   "metadata": {
    "ExecuteTime": {
     "end_time": "2018-04-03T03:11:22.001145Z",
     "start_time": "2018-04-03T03:11:21.976998Z"
    }
   },
   "outputs": [
    {
     "data": {
      "text/plain": [
       "'/hEpWvX6Bp79eLxY1kX5ZZJcme5U.jpg'"
      ]
     },
     "execution_count": 81,
     "metadata": {},
     "output_type": "execute_result"
    }
   ],
   "source": [
    "poster"
   ]
  },
  {
   "cell_type": "code",
   "execution_count": 82,
   "metadata": {
    "ExecuteTime": {
     "end_time": "2018-04-03T03:12:07.261653Z",
     "start_time": "2018-04-03T03:12:07.239220Z"
    }
   },
   "outputs": [],
   "source": [
    "from IPython.display import HTML"
   ]
  },
  {
   "cell_type": "code",
   "execution_count": 88,
   "metadata": {
    "ExecuteTime": {
     "end_time": "2018-04-03T03:15:12.690321Z",
     "start_time": "2018-04-03T03:15:07.330214Z"
    }
   },
   "outputs": [
    {
     "name": "stdout",
     "output_type": "stream",
     "text": [
      "6.63 µs ± 147 ns per loop (mean ± std. dev. of 7 runs, 100000 loops each)\n"
     ]
    }
   ],
   "source": [
    "%timeit HTML('<img src=\"https://image.tmdb.org/t/p/w600_and_h900_bestv2/hEpWvX6Bp79eLxY1kX5ZZJcme5U.jpg\">')"
   ]
  },
  {
   "cell_type": "code",
   "execution_count": 79,
   "metadata": {
    "ExecuteTime": {
     "end_time": "2018-04-03T03:08:05.007557Z",
     "start_time": "2018-04-03T03:08:04.982896Z"
    }
   },
   "outputs": [
    {
     "data": {
      "text/plain": [
       "{'adult': False,\n",
       " 'backdrop_path': '/7u3pxc0K1wx32IleAkLv78MKgrw.jpg',\n",
       " 'belongs_to_collection': {'backdrop_path': '/RhUxjzNojIJsdZSYTn0CQvdKsn.jpg',\n",
       "  'id': 2344,\n",
       "  'name': 'The Matrix Collection',\n",
       "  'poster_path': '/lh4aGpd3U9rm9B8Oqr6CUgQLtZL.jpg'},\n",
       " 'budget': 63000000,\n",
       " 'genres': [{'id': 28, 'name': 'Action'},\n",
       "  {'id': 878, 'name': 'Science Fiction'}],\n",
       " 'homepage': 'http://www.warnerbros.com/matrix',\n",
       " 'id': 603,\n",
       " 'imdb_id': 'tt0133093',\n",
       " 'original_language': 'en',\n",
       " 'original_title': 'The Matrix',\n",
       " 'overview': 'Set in the 22nd century, The Matrix tells the story of a computer hacker who joins a group of underground insurgents fighting the vast and powerful computers who now rule the earth.',\n",
       " 'popularity': 34.566899,\n",
       " 'poster_path': '/hEpWvX6Bp79eLxY1kX5ZZJcme5U.jpg',\n",
       " 'production_companies': [{'id': 79,\n",
       "   'logo_path': '/tpFpsqbleCzEE2p5EgvUq6ozfCA.png',\n",
       "   'name': 'Village Roadshow Pictures',\n",
       "   'origin_country': ''},\n",
       "  {'id': 372,\n",
       "   'logo_path': None,\n",
       "   'name': 'Groucho II Film Partnership',\n",
       "   'origin_country': ''},\n",
       "  {'id': 1885,\n",
       "   'logo_path': '/gMQ3oAjFyLIToDgrMKZgSCta3gT.png',\n",
       "   'name': 'Silver Pictures',\n",
       "   'origin_country': ''},\n",
       "  {'id': 174,\n",
       "   'logo_path': '/6rFNo5taSC9i0Sxnl81nucQMsw9.png',\n",
       "   'name': 'Warner Bros. Pictures',\n",
       "   'origin_country': 'US'}],\n",
       " 'production_countries': [{'iso_3166_1': 'AU', 'name': 'Australia'},\n",
       "  {'iso_3166_1': 'US', 'name': 'United States of America'}],\n",
       " 'release_date': '1999-03-30',\n",
       " 'revenue': 463517383,\n",
       " 'runtime': 136,\n",
       " 'spoken_languages': [{'iso_639_1': 'en', 'name': 'English'}],\n",
       " 'status': 'Released',\n",
       " 'tagline': 'Welcome to the Real World.',\n",
       " 'title': 'The Matrix',\n",
       " 'video': False,\n",
       " 'vote_average': 8.0,\n",
       " 'vote_count': 10748}"
      ]
     },
     "execution_count": 79,
     "metadata": {},
     "output_type": "execute_result"
    }
   ],
   "source": [
    "movie"
   ]
  },
  {
   "cell_type": "code",
   "execution_count": 75,
   "metadata": {
    "ExecuteTime": {
     "end_time": "2018-04-03T03:06:27.524653Z",
     "start_time": "2018-04-03T03:06:27.500870Z"
    }
   },
   "outputs": [
    {
     "data": {
      "text/plain": [
       "'The Matrix'"
      ]
     },
     "execution_count": 75,
     "metadata": {},
     "output_type": "execute_result"
    }
   ],
   "source": []
  },
  {
   "cell_type": "code",
   "execution_count": 50,
   "metadata": {
    "ExecuteTime": {
     "end_time": "2018-04-03T02:55:05.792397Z",
     "start_time": "2018-04-03T02:55:05.766715Z"
    }
   },
   "outputs": [
    {
     "data": {
      "text/plain": [
       "0          0\n",
       "tmdbId    37\n",
       "dtype: int64"
      ]
     },
     "execution_count": 50,
     "metadata": {},
     "output_type": "execute_result"
    }
   ],
   "source": [
    "TMDB_API_KEYa"
   ]
  },
  {
   "cell_type": "code",
   "execution_count": 32,
   "metadata": {
    "ExecuteTime": {
     "end_time": "2018-04-03T02:46:25.089934Z",
     "start_time": "2018-04-03T02:46:25.067160Z"
    }
   },
   "outputs": [],
   "source": [
    "iid_to_\n",
    "i = {idx: iid for iid, idx in pp.iid_to_idx.items()}"
   ]
  },
  {
   "cell_type": "code",
   "execution_count": 36,
   "metadata": {
    "ExecuteTime": {
     "end_time": "2018-04-03T02:46:53.313956Z",
     "start_time": "2018-04-03T02:46:53.291078Z"
    }
   },
   "outputs": [
    {
     "data": {
      "text/plain": [
       "65133"
      ]
     },
     "execution_count": 36,
     "metadata": {},
     "output_type": "execute_result"
    }
   ],
   "source": [
    "max(i.values())"
   ]
  },
  {
   "cell_type": "code",
   "execution_count": 17,
   "metadata": {
    "ExecuteTime": {
     "end_time": "2018-04-03T02:20:29.268910Z",
     "start_time": "2018-04-03T02:20:28.549087Z"
    }
   },
   "outputs": [
    {
     "name": "stderr",
     "output_type": "stream",
     "text": [
      "/Users/scottcronin/gh/recommender_deployed/venv/lib/python3.6/site-packages/IPython/core/interactiveshell.py:2728: DtypeWarning: Columns (10) have mixed types. Specify dtype option on import or set low_memory=False.\n",
      "  interactivity=interactivity, compiler=compiler, result=result)\n"
     ]
    },
    {
     "data": {
      "text/html": [
       "<div>\n",
       "<style scoped>\n",
       "    .dataframe tbody tr th:only-of-type {\n",
       "        vertical-align: middle;\n",
       "    }\n",
       "\n",
       "    .dataframe tbody tr th {\n",
       "        vertical-align: top;\n",
       "    }\n",
       "\n",
       "    .dataframe thead th {\n",
       "        text-align: right;\n",
       "    }\n",
       "</style>\n",
       "<table border=\"1\" class=\"dataframe\">\n",
       "  <thead>\n",
       "    <tr style=\"text-align: right;\">\n",
       "      <th></th>\n",
       "      <th>movieId</th>\n",
       "      <th>imdbId</th>\n",
       "      <th>tmdbId</th>\n",
       "    </tr>\n",
       "  </thead>\n",
       "  <tbody>\n",
       "    <tr>\n",
       "      <th>24304</th>\n",
       "      <td>113812</td>\n",
       "      <td>34555</td>\n",
       "      <td>252956.0</td>\n",
       "    </tr>\n",
       "    <tr>\n",
       "      <th>12557</th>\n",
       "      <td>58627</td>\n",
       "      <td>1023111</td>\n",
       "      <td>8456.0</td>\n",
       "    </tr>\n",
       "    <tr>\n",
       "      <th>1416</th>\n",
       "      <td>1453</td>\n",
       "      <td>118691</td>\n",
       "      <td>17894.0</td>\n",
       "    </tr>\n",
       "    <tr>\n",
       "      <th>37297</th>\n",
       "      <td>153760</td>\n",
       "      <td>4306116</td>\n",
       "      <td>341007.0</td>\n",
       "    </tr>\n",
       "    <tr>\n",
       "      <th>22009</th>\n",
       "      <td>105538</td>\n",
       "      <td>2577990</td>\n",
       "      <td>159015.0</td>\n",
       "    </tr>\n",
       "  </tbody>\n",
       "</table>\n",
       "</div>"
      ],
      "text/plain": [
       "       movieId   imdbId    tmdbId\n",
       "24304   113812    34555  252956.0\n",
       "12557    58627  1023111    8456.0\n",
       "1416      1453   118691   17894.0\n",
       "37297   153760  4306116  341007.0\n",
       "22009   105538  2577990  159015.0"
      ]
     },
     "metadata": {},
     "output_type": "display_data"
    },
    {
     "data": {
      "text/html": [
       "<div>\n",
       "<style scoped>\n",
       "    .dataframe tbody tr th:only-of-type {\n",
       "        vertical-align: middle;\n",
       "    }\n",
       "\n",
       "    .dataframe tbody tr th {\n",
       "        vertical-align: top;\n",
       "    }\n",
       "\n",
       "    .dataframe thead th {\n",
       "        text-align: right;\n",
       "    }\n",
       "</style>\n",
       "<table border=\"1\" class=\"dataframe\">\n",
       "  <thead>\n",
       "    <tr style=\"text-align: right;\">\n",
       "      <th></th>\n",
       "      <th>adult</th>\n",
       "      <th>belongs_to_collection</th>\n",
       "      <th>budget</th>\n",
       "      <th>genres</th>\n",
       "      <th>homepage</th>\n",
       "      <th>id</th>\n",
       "      <th>imdb_id</th>\n",
       "      <th>original_language</th>\n",
       "      <th>original_title</th>\n",
       "      <th>overview</th>\n",
       "      <th>...</th>\n",
       "      <th>release_date</th>\n",
       "      <th>revenue</th>\n",
       "      <th>runtime</th>\n",
       "      <th>spoken_languages</th>\n",
       "      <th>status</th>\n",
       "      <th>tagline</th>\n",
       "      <th>title</th>\n",
       "      <th>video</th>\n",
       "      <th>vote_average</th>\n",
       "      <th>vote_count</th>\n",
       "    </tr>\n",
       "  </thead>\n",
       "  <tbody>\n",
       "    <tr>\n",
       "      <th>14364</th>\n",
       "      <td>False</td>\n",
       "      <td>NaN</td>\n",
       "      <td>0</td>\n",
       "      <td>[{'id': 18, 'name': 'Drama'}, {'id': 35, 'name...</td>\n",
       "      <td>http://www.wer-frueher-stirbt-ist-laenger-tot.de/</td>\n",
       "      <td>1697</td>\n",
       "      <td>tt0780180</td>\n",
       "      <td>de</td>\n",
       "      <td>Wer früher stirbt ist länger tot</td>\n",
       "      <td>In this black comedy set in small-town Bavaria...</td>\n",
       "      <td>...</td>\n",
       "      <td>2006-08-17</td>\n",
       "      <td>0.0</td>\n",
       "      <td>105.0</td>\n",
       "      <td>[{'iso_639_1': 'de', 'name': 'Deutsch'}]</td>\n",
       "      <td>Released</td>\n",
       "      <td>NaN</td>\n",
       "      <td>Grave Decisions</td>\n",
       "      <td>False</td>\n",
       "      <td>7.2</td>\n",
       "      <td>30.0</td>\n",
       "    </tr>\n",
       "    <tr>\n",
       "      <th>3937</th>\n",
       "      <td>False</td>\n",
       "      <td>NaN</td>\n",
       "      <td>0</td>\n",
       "      <td>[{'id': 18, 'name': 'Drama'}, {'id': 35, 'name...</td>\n",
       "      <td>NaN</td>\n",
       "      <td>2613</td>\n",
       "      <td>tt0105165</td>\n",
       "      <td>en</td>\n",
       "      <td>Prelude to a Kiss</td>\n",
       "      <td>A couple fall in love despite the girl's pessi...</td>\n",
       "      <td>...</td>\n",
       "      <td>1992-07-10</td>\n",
       "      <td>22697691.0</td>\n",
       "      <td>105.0</td>\n",
       "      <td>[{'iso_639_1': 'nl', 'name': 'Nederlands'}, {'...</td>\n",
       "      <td>Released</td>\n",
       "      <td>NaN</td>\n",
       "      <td>Prelude to a Kiss</td>\n",
       "      <td>False</td>\n",
       "      <td>5.4</td>\n",
       "      <td>31.0</td>\n",
       "    </tr>\n",
       "    <tr>\n",
       "      <th>33626</th>\n",
       "      <td>False</td>\n",
       "      <td>NaN</td>\n",
       "      <td>0</td>\n",
       "      <td>[]</td>\n",
       "      <td>http://rebootfilm.com</td>\n",
       "      <td>143602</td>\n",
       "      <td>tt2090594</td>\n",
       "      <td>en</td>\n",
       "      <td>Reboot</td>\n",
       "      <td>Set within a dystopian world that is a collisi...</td>\n",
       "      <td>...</td>\n",
       "      <td>2012-12-12</td>\n",
       "      <td>0.0</td>\n",
       "      <td>40.0</td>\n",
       "      <td>[{'iso_639_1': 'en', 'name': 'English'}]</td>\n",
       "      <td>Released</td>\n",
       "      <td>Your world is about to be reset.</td>\n",
       "      <td>Reboot</td>\n",
       "      <td>False</td>\n",
       "      <td>4.5</td>\n",
       "      <td>2.0</td>\n",
       "    </tr>\n",
       "    <tr>\n",
       "      <th>13332</th>\n",
       "      <td>False</td>\n",
       "      <td>NaN</td>\n",
       "      <td>0</td>\n",
       "      <td>[]</td>\n",
       "      <td>NaN</td>\n",
       "      <td>250093</td>\n",
       "      <td>tt0068912</td>\n",
       "      <td>en</td>\n",
       "      <td>The Man</td>\n",
       "      <td>When the President and Speaker of the House ar...</td>\n",
       "      <td>...</td>\n",
       "      <td>1972-07-19</td>\n",
       "      <td>0.0</td>\n",
       "      <td>93.0</td>\n",
       "      <td>[{'iso_639_1': 'en', 'name': 'English'}]</td>\n",
       "      <td>Released</td>\n",
       "      <td>It took an accident to make this man President...</td>\n",
       "      <td>The Man</td>\n",
       "      <td>False</td>\n",
       "      <td>8.0</td>\n",
       "      <td>1.0</td>\n",
       "    </tr>\n",
       "    <tr>\n",
       "      <th>26091</th>\n",
       "      <td>False</td>\n",
       "      <td>NaN</td>\n",
       "      <td>0</td>\n",
       "      <td>[{'id': 35, 'name': 'Comedy'}]</td>\n",
       "      <td>http://www.billburr.com/</td>\n",
       "      <td>46967</td>\n",
       "      <td>tt1717578</td>\n",
       "      <td>en</td>\n",
       "      <td>Bill Burr: Let It Go</td>\n",
       "      <td>It’s always been a dream of mine to do a show ...</td>\n",
       "      <td>...</td>\n",
       "      <td>2010-09-18</td>\n",
       "      <td>0.0</td>\n",
       "      <td>65.0</td>\n",
       "      <td>[{'iso_639_1': 'en', 'name': 'English'}]</td>\n",
       "      <td>Released</td>\n",
       "      <td>NaN</td>\n",
       "      <td>Bill Burr: Let It Go</td>\n",
       "      <td>False</td>\n",
       "      <td>8.0</td>\n",
       "      <td>21.0</td>\n",
       "    </tr>\n",
       "  </tbody>\n",
       "</table>\n",
       "<p>5 rows × 24 columns</p>\n",
       "</div>"
      ],
      "text/plain": [
       "       adult belongs_to_collection budget  \\\n",
       "14364  False                   NaN      0   \n",
       "3937   False                   NaN      0   \n",
       "33626  False                   NaN      0   \n",
       "13332  False                   NaN      0   \n",
       "26091  False                   NaN      0   \n",
       "\n",
       "                                                  genres  \\\n",
       "14364  [{'id': 18, 'name': 'Drama'}, {'id': 35, 'name...   \n",
       "3937   [{'id': 18, 'name': 'Drama'}, {'id': 35, 'name...   \n",
       "33626                                                 []   \n",
       "13332                                                 []   \n",
       "26091                     [{'id': 35, 'name': 'Comedy'}]   \n",
       "\n",
       "                                                homepage      id    imdb_id  \\\n",
       "14364  http://www.wer-frueher-stirbt-ist-laenger-tot.de/    1697  tt0780180   \n",
       "3937                                                 NaN    2613  tt0105165   \n",
       "33626                              http://rebootfilm.com  143602  tt2090594   \n",
       "13332                                                NaN  250093  tt0068912   \n",
       "26091                           http://www.billburr.com/   46967  tt1717578   \n",
       "\n",
       "      original_language                    original_title  \\\n",
       "14364                de  Wer früher stirbt ist länger tot   \n",
       "3937                 en                 Prelude to a Kiss   \n",
       "33626                en                            Reboot   \n",
       "13332                en                           The Man   \n",
       "26091                en              Bill Burr: Let It Go   \n",
       "\n",
       "                                                overview    ...      \\\n",
       "14364  In this black comedy set in small-town Bavaria...    ...       \n",
       "3937   A couple fall in love despite the girl's pessi...    ...       \n",
       "33626  Set within a dystopian world that is a collisi...    ...       \n",
       "13332  When the President and Speaker of the House ar...    ...       \n",
       "26091  It’s always been a dream of mine to do a show ...    ...       \n",
       "\n",
       "      release_date     revenue runtime  \\\n",
       "14364   2006-08-17         0.0   105.0   \n",
       "3937    1992-07-10  22697691.0   105.0   \n",
       "33626   2012-12-12         0.0    40.0   \n",
       "13332   1972-07-19         0.0    93.0   \n",
       "26091   2010-09-18         0.0    65.0   \n",
       "\n",
       "                                        spoken_languages    status  \\\n",
       "14364           [{'iso_639_1': 'de', 'name': 'Deutsch'}]  Released   \n",
       "3937   [{'iso_639_1': 'nl', 'name': 'Nederlands'}, {'...  Released   \n",
       "33626           [{'iso_639_1': 'en', 'name': 'English'}]  Released   \n",
       "13332           [{'iso_639_1': 'en', 'name': 'English'}]  Released   \n",
       "26091           [{'iso_639_1': 'en', 'name': 'English'}]  Released   \n",
       "\n",
       "                                                 tagline  \\\n",
       "14364                                                NaN   \n",
       "3937                                                 NaN   \n",
       "33626                   Your world is about to be reset.   \n",
       "13332  It took an accident to make this man President...   \n",
       "26091                                                NaN   \n",
       "\n",
       "                      title  video vote_average vote_count  \n",
       "14364       Grave Decisions  False          7.2       30.0  \n",
       "3937      Prelude to a Kiss  False          5.4       31.0  \n",
       "33626                Reboot  False          4.5        2.0  \n",
       "13332               The Man  False          8.0        1.0  \n",
       "26091  Bill Burr: Let It Go  False          8.0       21.0  \n",
       "\n",
       "[5 rows x 24 columns]"
      ]
     },
     "metadata": {},
     "output_type": "display_data"
    },
    {
     "name": "stdout",
     "output_type": "stream",
     "text": [
      "Shape:    45,466 x 24\n"
     ]
    }
   ],
   "source": [
    "links = pd.read_csv('data/links.csv')\n",
    "meta = pd.read_csv('data/movies_metadata.csv', usecols=['id', ''])\n",
    "display(links.sample(5))\n",
    "display(meta.sample(5))\n",
    "print('Shape: {:>9,} x {}'.format(*meta.shape))"
   ]
  },
  {
   "cell_type": "code",
   "execution_count": 5,
   "metadata": {
    "ExecuteTime": {
     "end_time": "2018-04-01T19:14:22.631147Z",
     "start_time": "2018-04-01T19:14:22.497253Z"
    },
    "code_folding": []
   },
   "outputs": [],
   "source": [
    "class Preprocessor(TransformerMixin):\n",
    "    def __init__(self, copy=True, min_rating=4.0):\n",
    "        self.copy = copy\n",
    "        self.min_rating = min_rating\n",
    "        self.uid_to_idx = None\n",
    "        self.iid_to_idx = None\n",
    "    \n",
    "    def fit(self, df, y=None, **kwargs):\n",
    "        self._validate_df(df)\n",
    "        if self.copy:\n",
    "            df = df.copy()\n",
    "        df = self._filter_interactions_to_min_rating(df)\n",
    "        df = self._drop_duplicate_user_item_interactions(df)\n",
    "\n",
    "        # create uid to indx mapping\n",
    "        uniq_uids = df['uid'].unique()\n",
    "        self.uid_to_idx = dict(zip(uniq_uids, np.arange(len(uniq_uids))))\n",
    "\n",
    "        # create iid to indx mapping\n",
    "        uniq_iids = df['iid'].unique()\n",
    "        self.iid_to_idx = dict(zip(uniq_iids, np.arange(len(uniq_iids))))        \n",
    "        return self\n",
    "    \n",
    "    def transform(self, df, **kwargs):\n",
    "        self._validate_df(df)\n",
    "        if self.copy:\n",
    "            df = df.copy()\n",
    "\n",
    "        df = self._filter_interactions_to_min_rating(df)\n",
    "        df = self._drop_duplicate_user_item_interactions(df)\n",
    "        \n",
    "        # generate sparse matrix\n",
    "        row = df['uid'].map(self.uid_to_idx)\n",
    "        col = df['iid'].map(self.iid_to_idx)\n",
    "        assert len(row) == len(col)\n",
    "        data = np.ones(len(row))\n",
    "        shape = (len(self.uid_to_idx), len(self.iid_to_idx))\n",
    "        csr = scs.coo_matrix((data, (row, col)), shape=shape).tocsr()\n",
    "        return csr\n",
    "\n",
    "    def _drop_duplicate_user_item_interactions(self, df):\n",
    "        if df.duplicated().sum() != 0:\n",
    "            df = df.drop_duplicated()\n",
    "        return df\n",
    "    \n",
    "    def _filter_interactions_to_min_rating(self, df):\n",
    "        df = df.loc[df['rating'] >= self.min_rating, ['uid', 'iid']]\n",
    "        return df\n",
    "    \n",
    "    def _validate_df(self, df):\n",
    "        assert 'uid' in df.columns\n",
    "        assert 'iid' in df.columns\n",
    "        assert 'rating' in df.columns"
   ]
  },
  {
   "cell_type": "code",
   "execution_count": 10,
   "metadata": {
    "ExecuteTime": {
     "end_time": "2018-04-03T01:46:18.221385Z",
     "start_time": "2018-04-03T01:46:18.197809Z"
    }
   },
   "outputs": [],
   "source": []
  },
  {
   "cell_type": "code",
   "execution_count": 13,
   "metadata": {
    "ExecuteTime": {
     "end_time": "2018-04-03T01:47:12.876701Z",
     "start_time": "2018-04-03T01:47:08.451751Z"
    }
   },
   "outputs": [],
   "source": [
    "pp = Preprocessor(min_rating=4.0)\n",
    "csr = pp.fit_transform(interactions)"
   ]
  },
  {
   "cell_type": "markdown",
   "metadata": {},
   "source": [
    "Lets begin by creating a simple train test split"
   ]
  },
  {
   "cell_type": "code",
   "execution_count": 7,
   "metadata": {
    "ExecuteTime": {
     "end_time": "2018-04-01T19:14:27.201803Z",
     "start_time": "2018-04-01T19:14:26.776092Z"
    }
   },
   "outputs": [],
   "source": [
    "tr, te = cross_validation.random_train_test_split(csr)"
   ]
  },
  {
   "cell_type": "markdown",
   "metadata": {},
   "source": [
    "Let's build a model with train and evaluate it with test"
   ]
  },
  {
   "cell_type": "code",
   "execution_count": 6,
   "metadata": {
    "ExecuteTime": {
     "end_time": "2018-03-31T21:36:10.914829Z",
     "start_time": "2018-03-31T21:35:43.603184Z"
    }
   },
   "outputs": [
    {
     "name": "stdout",
     "output_type": "stream",
     "text": [
      "CPU times: user 26.9 s, sys: 237 ms, total: 27.2 s\n",
      "Wall time: 27.3 s\n"
     ]
    }
   ],
   "source": [
    "%%time\n",
    "lfm = LightFM(no_components=30, loss='warp', learning_rate=0.05)\n",
    "lfm.fit(tr, epochs=3)"
   ]
  },
  {
   "cell_type": "markdown",
   "metadata": {},
   "source": [
    "Let's build a popularity model simply by deleting user and item embedding vectors"
   ]
  },
  {
   "cell_type": "code",
   "execution_count": 7,
   "metadata": {
    "ExecuteTime": {
     "end_time": "2018-03-31T21:36:10.949267Z",
     "start_time": "2018-03-31T21:36:10.916887Z"
    }
   },
   "outputs": [],
   "source": [
    "pop = copy.deepcopy(lfm)\n",
    "pop.user_embeddings[:, :] = 0.0\n",
    "pop.item_embeddings[:, :] = 0.0"
   ]
  },
  {
   "cell_type": "code",
   "execution_count": 8,
   "metadata": {
    "ExecuteTime": {
     "end_time": "2018-03-31T21:37:10.925652Z",
     "start_time": "2018-03-31T21:37:10.896630Z"
    }
   },
   "outputs": [],
   "source": [
    "def evaluate_model(model, train, test):\n",
    "    model_rr = evaluation.reciprocal_rank(\n",
    "        model=model,\n",
    "        test_interactions=test,\n",
    "        train_interactions=train,\n",
    "        num_threads=2\n",
    "    )\n",
    "    model_auc = evaluation.auc_score(\n",
    "        model=model,\n",
    "        test_interactions=test,\n",
    "        train_interactions=train,\n",
    "        num_threads=2\n",
    "    )\n",
    "    return model_rr, model_auc"
   ]
  },
  {
   "cell_type": "code",
   "execution_count": 9,
   "metadata": {
    "ExecuteTime": {
     "end_time": "2018-03-31T21:42:20.243782Z",
     "start_time": "2018-03-31T21:37:23.616006Z"
    }
   },
   "outputs": [
    {
     "name": "stdout",
     "output_type": "stream",
     "text": [
      "CPU times: user 4min 53s, sys: 1.82 s, total: 4min 55s\n",
      "Wall time: 4min 56s\n"
     ]
    }
   ],
   "source": [
    "%%time\n",
    "fm_rr, fm_auc = evaluate_model(lfm, tr, te)\n",
    "pop_rr, pop_auc = evaluate_model(pop, tr, te)"
   ]
  },
  {
   "cell_type": "code",
   "execution_count": 24,
   "metadata": {
    "ExecuteTime": {
     "end_time": "2018-03-31T21:50:50.357158Z",
     "start_time": "2018-03-31T21:50:50.333958Z"
    }
   },
   "outputs": [
    {
     "name": "stdout",
     "output_type": "stream",
     "text": [
      "Factorization Machine:\n",
      "\tMean Reciprocal Rank: 0.41\n",
      "\t        Mean ROC-AUC: 0.972\n",
      "Popularity Model:\n",
      "\tMean Reciprocal Rank: 0.281\n",
      "\t        Mean ROC-AUC: 0.944\n"
     ]
    }
   ],
   "source": [
    "print('{:>10}:\\n\\t{:>20}: {:0.3}\\n\\t{:>20}: {:0.3}'.format(\n",
    "    'Factorization Machine',\n",
    "        'Mean Reciprocal Rank', fm_rr.mean(),\n",
    "        'Mean ROC-AUC', fm_auc.mean()\n",
    "))\n",
    "print('{:>10}:\\n\\t{:>20}: {:0.3}\\n\\t{:>20}: {:0.3}'.format(\n",
    "    'Popularity Model',\n",
    "        'Mean Reciprocal Rank', pop_rr.mean(),\n",
    "        'Mean ROC-AUC', pop_auc.mean()\n",
    "))"
   ]
  },
  {
   "cell_type": "code",
   "execution_count": 38,
   "metadata": {
    "ExecuteTime": {
     "end_time": "2018-03-31T22:16:10.161840Z",
     "start_time": "2018-03-31T22:16:08.801175Z"
    }
   },
   "outputs": [],
   "source": [
    "fn = os.path.join(\n",
    "    os.path.dirname(os.getcwd()),\n",
    "    'models/fm_no_side_data.pkl.gz'\n",
    ")\n",
    "_ = joblib.dump(lfm, fn)\n",
    "\n",
    "fn = os.path.join(\n",
    "    os.path.dirname(os.getcwd()),\n",
    "    'models/popularity.pkl.gz'\n",
    ")\n",
    "_ = joblib.dump(pop, fn)"
   ]
  }
 ],
 "metadata": {
  "kernelspec": {
   "display_name": "recommender_deployed",
   "language": "python",
   "name": "recommender_deployed"
  },
  "language_info": {
   "codemirror_mode": {
    "name": "ipython",
    "version": 3
   },
   "file_extension": ".py",
   "mimetype": "text/x-python",
   "name": "python",
   "nbconvert_exporter": "python",
   "pygments_lexer": "ipython3",
   "version": "3.6.2"
  },
  "toc": {
   "colors": {
    "hover_highlight": "#DAA520",
    "navigate_num": "#feffff",
    "navigate_text": "#333333",
    "running_highlight": "#FF0000",
    "selected_highlight": "#FFD700",
    "sidebar_border": "#EEEEEE",
    "wrapper_background": "#FFFFFF"
   },
   "moveMenuLeft": true,
   "nav_menu": {
    "height": "21px",
    "width": "254px"
   },
   "navigate_menu": true,
   "number_sections": false,
   "sideBar": true,
   "threshold": 4,
   "toc_cell": false,
   "toc_section_display": "block",
   "toc_window_display": false,
   "widenNotebook": false
  }
 },
 "nbformat": 4,
 "nbformat_minor": 2
}
