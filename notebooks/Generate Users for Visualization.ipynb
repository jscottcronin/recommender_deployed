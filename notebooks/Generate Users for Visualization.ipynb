{
 "cells": [
  {
   "cell_type": "markdown",
   "metadata": {},
   "source": [
    "# Purpose\n",
    "The purpose of this notebook is to generate an image for individual users in our recommender. The following API is used to collect images for users:  \n",
    "https://randomuser.me/"
   ]
  },
  {
   "cell_type": "code",
   "execution_count": 27,
   "metadata": {
    "ExecuteTime": {
     "end_time": "2018-04-01T19:24:57.071336Z",
     "start_time": "2018-04-01T19:24:56.547428Z"
    }
   },
   "outputs": [],
   "source": [
    "import requests\n",
    "import sklearn\n",
    "import numpy as np\n",
    "import json"
   ]
  },
  {
   "cell_type": "markdown",
   "metadata": {},
   "source": [
    "First, let's pull 5000 generated users from the randomuser API"
   ]
  },
  {
   "cell_type": "code",
   "execution_count": 25,
   "metadata": {
    "ExecuteTime": {
     "end_time": "2018-04-01T19:23:10.402915Z",
     "start_time": "2018-04-01T19:23:09.099050Z"
    }
   },
   "outputs": [
    {
     "name": "stdout",
     "output_type": "stream",
     "text": [
      "Length of users generated: 5000\n",
      "Example of user data:\n"
     ]
    },
    {
     "data": {
      "text/plain": [
       "{'cell': '(425)-398-7221',\n",
       " 'dob': '1957-07-31 21:21:57',\n",
       " 'email': 'alan.tucker@example.com',\n",
       " 'gender': 'male',\n",
       " 'id': {'name': 'SSN', 'value': '212-57-9624'},\n",
       " 'location': {'city': 'kansas city',\n",
       "  'postcode': 42168,\n",
       "  'state': 'nevada',\n",
       "  'street': '3890 edwards rd'},\n",
       " 'login': {'md5': '36310098957fa49c58c78d550a895f86',\n",
       "  'password': 'chipper',\n",
       "  'salt': 'X6WuEsjQ',\n",
       "  'sha1': '1b620f4b45a6182398d762752926e3ddbc3b0e09',\n",
       "  'sha256': '91e7588e6b6e84b35d42112b32dd31117db50fed4bb31238dd8297aadc17fd4f',\n",
       "  'username': 'browndog344'},\n",
       " 'name': {'first': 'alan', 'last': 'tucker', 'title': 'mr'},\n",
       " 'nat': 'US',\n",
       " 'phone': '(390)-100-1616',\n",
       " 'picture': {'large': 'https://randomuser.me/api/portraits/men/70.jpg',\n",
       "  'medium': 'https://randomuser.me/api/portraits/med/men/70.jpg',\n",
       "  'thumbnail': 'https://randomuser.me/api/portraits/thumb/men/70.jpg'},\n",
       " 'registered': '2006-05-26 21:05:40'}"
      ]
     },
     "execution_count": 25,
     "metadata": {},
     "output_type": "execute_result"
    }
   ],
   "source": [
    "response = requests.get('https://randomuser.me/api/', params={'results': 5000})\n",
    "results = response.json()['results']\n",
    "\n",
    "print('Length of users generated: {}'.format(len(results)))\n",
    "print('Example of user data:')\n",
    "results[13]"
   ]
  },
  {
   "cell_type": "markdown",
   "metadata": {},
   "source": [
    "Next, let's assign these random users to users in our recommender model"
   ]
  },
  {
   "cell_type": "code",
   "execution_count": 50,
   "metadata": {
    "ExecuteTime": {
     "end_time": "2018-04-01T19:40:41.963744Z",
     "start_time": "2018-04-01T19:40:41.932595Z"
    }
   },
   "outputs": [
    {
     "data": {
      "text/plain": [
       "{'cell': '0948-750-0627',\n",
       " 'dob': '1959-07-14 04:17:21',\n",
       " 'email': 'مرسانا.کریمی@example.com',\n",
       " 'gender': 'female',\n",
       " 'id': {'name': '', 'value': None},\n",
       " 'location': {'city': 'تهران',\n",
       "  'postcode': 51837,\n",
       "  'state': 'خراسان شمالی',\n",
       "  'street': '1274 موسیوند'},\n",
       " 'login': {'md5': '28e1d8a09dc78cfd2796d67c32fea3e6',\n",
       "  'password': 'luck',\n",
       "  'salt': 'tszDlEP6',\n",
       "  'sha1': '783dc57efd3c361c92dcccaecb4032700d43a369',\n",
       "  'sha256': 'c72203679053ca2e26dac3dc2089e7e50dad5c42016c435a256d9317a7dff642',\n",
       "  'username': 'beautifulpeacock608'},\n",
       " 'name': {'first': 'مرسانا', 'last': 'کریمی', 'title': 'mrs'},\n",
       " 'nat': 'IR',\n",
       " 'phone': '059-15279693',\n",
       " 'picture': {'large': 'https://randomuser.me/api/portraits/women/28.jpg',\n",
       "  'medium': 'https://randomuser.me/api/portraits/med/women/28.jpg',\n",
       "  'thumbnail': 'https://randomuser.me/api/portraits/thumb/women/28.jpg'},\n",
       " 'registered': '2003-12-09 15:50:16'}"
      ]
     },
     "execution_count": 50,
     "metadata": {},
     "output_type": "execute_result"
    }
   ],
   "source": [
    "no_users = 69797\n",
    "uidx = np.arange(no_users)\n",
    "sample_uidx = map(str, np.random.choice(uidx, size=len(results), replace=False))\n",
    "uidx_to_profile = dict(zip(sample_uidx, results))\n",
    "\n",
    "# print key-value pair for 1 customer\n",
    "customer = np.random.choice(list(uidx_to_profile))\n",
    "uidx_to_profile[customer]"
   ]
  },
  {
   "cell_type": "markdown",
   "metadata": {},
   "source": [
    "Store `user_to_profile` as a json file for use on webapp"
   ]
  },
  {
   "cell_type": "code",
   "execution_count": 55,
   "metadata": {
    "ExecuteTime": {
     "end_time": "2018-04-01T19:42:03.153480Z",
     "start_time": "2018-04-01T19:42:02.715901Z"
    }
   },
   "outputs": [],
   "source": [
    "with open('../app/objects/user_profiles.json', 'w') as f:\n",
    "    json.dump(uidx_to_profile, f, sortindent=4)"
   ]
  },
  {
   "cell_type": "code",
   "execution_count": 49,
   "metadata": {
    "ExecuteTime": {
     "end_time": "2018-04-01T19:38:38.599767Z",
     "start_time": "2018-04-01T19:38:38.580205Z"
    }
   },
   "outputs": [
    {
     "data": {
      "text/plain": [
       "{'cell': '0744-261-346',\n",
       " 'dob': '1957-07-08 07:03:52',\n",
       " 'email': 'debra.bishop@example.com',\n",
       " 'gender': 'female',\n",
       " 'id': {'name': 'NINO', 'value': 'YM 38 28 93 B'},\n",
       " 'location': {'city': 'salisbury',\n",
       "  'postcode': 'RA80 3SL',\n",
       "  'state': 'durham',\n",
       "  'street': '6597 chester road'},\n",
       " 'login': {'md5': '3c1551375abc5031cdbf7595e0229354',\n",
       "  'password': '635241',\n",
       "  'salt': 'JPKcT9g4',\n",
       "  'sha1': '44cbcae7baa22d8a8878008c49d3272e4e0113ad',\n",
       "  'sha256': '256cae6e14fcbb1a169e671d833559e4e79b17a5b7bd49ad1f2da1ede4390a2a',\n",
       "  'username': 'smallcat121'},\n",
       " 'name': {'first': 'debra', 'last': 'bishop', 'title': 'ms'},\n",
       " 'nat': 'GB',\n",
       " 'phone': '013873 39188',\n",
       " 'picture': {'large': 'https://randomuser.me/api/portraits/women/15.jpg',\n",
       "  'medium': 'https://randomuser.me/api/portraits/med/women/15.jpg',\n",
       "  'thumbnail': 'https://randomuser.me/api/portraits/thumb/women/15.jpg'},\n",
       " 'registered': '2010-07-08 13:47:40'}"
      ]
     },
     "execution_count": 49,
     "metadata": {},
     "output_type": "execute_result"
    }
   ],
   "source": [
    "uidx_to_profile[40812]"
   ]
  },
  {
   "cell_type": "markdown",
   "metadata": {},
   "source": [
    "We have successfully pulled 5000 fake users, and assigned them to user ids in our movielens database. These are stored as a .json file and can be utilized in the front end visualization."
   ]
  }
 ],
 "metadata": {
  "kernelspec": {
   "display_name": "recommender_deployed",
   "language": "python",
   "name": "recommender_deployed"
  },
  "language_info": {
   "codemirror_mode": {
    "name": "ipython",
    "version": 3
   },
   "file_extension": ".py",
   "mimetype": "text/x-python",
   "name": "python",
   "nbconvert_exporter": "python",
   "pygments_lexer": "ipython3",
   "version": "3.6.2"
  },
  "toc": {
   "colors": {
    "hover_highlight": "#DAA520",
    "navigate_num": "#feffff",
    "navigate_text": "#333333",
    "running_highlight": "#FF0000",
    "selected_highlight": "#FFD700",
    "sidebar_border": "#EEEEEE",
    "wrapper_background": "#FFFFFF"
   },
   "moveMenuLeft": true,
   "nav_menu": {
    "height": "21px",
    "width": "255px"
   },
   "navigate_menu": true,
   "number_sections": false,
   "sideBar": true,
   "threshold": 4,
   "toc_cell": false,
   "toc_section_display": "block",
   "toc_window_display": false,
   "widenNotebook": false
  }
 },
 "nbformat": 4,
 "nbformat_minor": 2
}
